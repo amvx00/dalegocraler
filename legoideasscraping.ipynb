{
 "cells": [
  {
   "cell_type": "code",
   "execution_count": 21,
   "id": "fb0e8316",
   "metadata": {},
   "outputs": [],
   "source": [
    "from selenium import webdriver\n",
    "import pandas as pd\n",
    "from selenium.webdriver.common.by import By\n",
    "from selenium.webdriver.common.action_chains import ActionChains"
   ]
  },
  {
   "cell_type": "code",
   "execution_count": 27,
   "id": "3e806395",
   "metadata": {},
   "outputs": [],
   "source": [
    "url = 'https://www.bhinneka.com/jual?cari=lego+ideas'\n",
    "driver = webdriver.Chrome()\n",
    "driver.get(url)"
   ]
  },
  {
   "cell_type": "code",
   "execution_count": 28,
   "id": "af320ac8",
   "metadata": {},
   "outputs": [],
   "source": [
    "product_elements = driver.find_elements(By.CSS_SELECTOR, '.list-view-item')"
   ]
  },
  {
   "cell_type": "code",
   "execution_count": 29,
   "id": "539ded9e",
   "metadata": {
    "collapsed": true
   },
   "outputs": [
    {
     "name": "stdout",
     "output_type": "stream",
     "text": [
      "[('LEGO IDEAS 21327 Typewriter', 3565000, 'Penjaringan', ''), ('LEGO IDEAS 21320 Dinosaur Fossils', 1720000, 'Penjaringan', ''), ('LEGO IDEAS 21319 Central Perk', 1669000, 'Penjaringan', ''), ('LEGO 21316 The Flintstones IDEAS', 1385000, 'Penjaringan', ''), ('LEGO 21315 Pop-Up Book IDEAS', 1729000, 'Penjaringan', ''), ('LEGO IDEAS 21327 Typewriter - Mainan Anak Kreatif Mesin Ketik', 4889500, 'Penjaringan', ''), ('LEGO 21108 IDEAS Ghostbusters Ecto 1 - Mainan Anak Film TV', 1888000, 'Penjaringan', ''), ('LEGO Ideas 21339 BTS Dynamite', 2699000, 'Penjaringan', '')]\n"
     ]
    }
   ],
   "source": [
    "ac = ActionChains(driver)\n",
    "products=[]\n",
    "items = driver.find_elements(By.CSS_SELECTOR, 'div.col.css-mz9zn6')\n",
    "for item in items:\n",
    "    product_name = item.find_element(By.CSS_SELECTOR, 'p.css-194yrqz').text\n",
    "    product_price = int(item.find_element(By.CSS_SELECTOR, 'div.price').text.replace('Rp', '').replace('.', '').strip())\n",
    "    location = item.find_element(By.CSS_SELECTOR, 'div.merchant-info.css-ejq1bh').find_elements(By.TAG_NAME, 'span')[0].text\n",
    "\n",
    "    mo = item.find_element(By.CSS_SELECTOR, 'a.product-wrapper.css-puqsxn')\n",
    "    ac.move_to_element(mo).perform()\n",
    "    shopper = item.find_element(By.CSS_SELECTOR, 'div.merchant-info.css-ejq1bh').find_elements(By.TAG_NAME, 'span')[1].text\n",
    "\n",
    "    products.append(\n",
    "        (product_name, product_price, location, shopper)\n",
    "    )\n",
    "\n",
    "print(products)"
   ]
  },
  {
   "cell_type": "code",
   "execution_count": 30,
   "id": "bcdf4cd2",
   "metadata": {
    "scrolled": true
   },
   "outputs": [
    {
     "name": "stdout",
     "output_type": "stream",
     "text": [
      "                                        product_name  product_price  \\\n",
      "0                        LEGO IDEAS 21327 Typewriter        3565000   \n",
      "1                  LEGO IDEAS 21320 Dinosaur Fossils        1720000   \n",
      "2                      LEGO IDEAS 21319 Central Perk        1669000   \n",
      "3                   LEGO 21316 The Flintstones IDEAS        1385000   \n",
      "4                       LEGO 21315 Pop-Up Book IDEAS        1729000   \n",
      "5  LEGO IDEAS 21327 Typewriter - Mainan Anak Krea...        4889500   \n",
      "6  LEGO 21108 IDEAS Ghostbusters Ecto 1 - Mainan ...        1888000   \n",
      "7                      LEGO Ideas 21339 BTS Dynamite        2699000   \n",
      "\n",
      "      location shopper  \n",
      "0  Penjaringan          \n",
      "1  Penjaringan          \n",
      "2  Penjaringan          \n",
      "3  Penjaringan          \n",
      "4  Penjaringan          \n",
      "5  Penjaringan          \n",
      "6  Penjaringan          \n",
      "7  Penjaringan          \n"
     ]
    }
   ],
   "source": [
    "df = pd.DataFrame(products, columns=['product_name', 'product_price', 'location', 'shopper'])\n",
    "print(df)"
   ]
  },
  {
   "cell_type": "code",
   "execution_count": 20,
   "id": "12d9937b",
   "metadata": {},
   "outputs": [
    {
     "name": "stdout",
     "output_type": "stream",
     "text": [
      "Saved\n"
     ]
    }
   ],
   "source": [
    "df.to_csv('legoresult.csv', index=False)\n",
    "print('Data saved')"
   ]
  },
  {
   "cell_type": "code",
   "execution_count": null,
   "id": "ac4a8745",
   "metadata": {},
   "outputs": [],
   "source": []
  }
 ],
 "metadata": {
  "kernelspec": {
   "display_name": "Python 3 (ipykernel)",
   "language": "python",
   "name": "python3"
  },
  "language_info": {
   "codemirror_mode": {
    "name": "ipython",
    "version": 3
   },
   "file_extension": ".py",
   "mimetype": "text/x-python",
   "name": "python",
   "nbconvert_exporter": "python",
   "pygments_lexer": "ipython3",
   "version": "3.9.12"
  }
 },
 "nbformat": 4,
 "nbformat_minor": 5
}
